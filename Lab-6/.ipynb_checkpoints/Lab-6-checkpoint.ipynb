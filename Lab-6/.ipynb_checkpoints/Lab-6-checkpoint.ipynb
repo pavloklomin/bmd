{
 "cells": [
  {
   "cell_type": "markdown",
   "metadata": {},
   "source": [
    "<h1>Лаба №6</h1>\n",
    "<h2>Студента БС-83</h2>\n",
    "\n",
    "<h2>Кльоміна Павла</h2>"
   ]
  },
  {
   "cell_type": "code",
   "execution_count": 16,
   "metadata": {},
   "outputs": [],
   "source": [
    "import seaborn as sns\n",
    "import seaborn as sns\n",
    "import numpy as np\n",
    "import matplotlib.pyplot as plt\n",
    "import pandas as pd\n",
    "%matplotlib inline"
   ]
  },
  {
   "cell_type": "markdown",
   "metadata": {},
   "source": [
    "1. Обрати реальні дані з kaggle(https://www.kaggle.com/vitaliymalcev/russian-passenger-air-service-20072020#russian_passenger_air_service_2.csv). \n",
    "Я обрав цю базу даних щоб перевірити теорію про те, що кількість пасажірів Росії у 2016 році було значно быльша за попередны роки, для прикладу взяв 2008 роки"
   ]
  },
  {
   "cell_type": "code",
   "execution_count": 71,
   "metadata": {
    "scrolled": false
   },
   "outputs": [
    {
     "data": {
      "text/html": [
       "<div>\n",
       "<style scoped>\n",
       "    .dataframe tbody tr th:only-of-type {\n",
       "        vertical-align: middle;\n",
       "    }\n",
       "\n",
       "    .dataframe tbody tr th {\n",
       "        vertical-align: top;\n",
       "    }\n",
       "\n",
       "    .dataframe thead th {\n",
       "        text-align: right;\n",
       "    }\n",
       "</style>\n",
       "<table border=\"1\" class=\"dataframe\">\n",
       "  <thead>\n",
       "    <tr style=\"text-align: right;\">\n",
       "      <th></th>\n",
       "      <th>2008</th>\n",
       "      <th>2010</th>\n",
       "    </tr>\n",
       "  </thead>\n",
       "  <tbody>\n",
       "    <tr>\n",
       "      <td>January</td>\n",
       "      <td>5196871.0</td>\n",
       "      <td>5705839.0</td>\n",
       "    </tr>\n",
       "    <tr>\n",
       "      <td>February</td>\n",
       "      <td>5034272.0</td>\n",
       "      <td>5188681.0</td>\n",
       "    </tr>\n",
       "    <tr>\n",
       "      <td>March</td>\n",
       "      <td>5757366.0</td>\n",
       "      <td>6099881.0</td>\n",
       "    </tr>\n",
       "    <tr>\n",
       "      <td>April</td>\n",
       "      <td>6168871.0</td>\n",
       "      <td>6330317.0</td>\n",
       "    </tr>\n",
       "    <tr>\n",
       "      <td>May</td>\n",
       "      <td>7153877.0</td>\n",
       "      <td>7727951.0</td>\n",
       "    </tr>\n",
       "    <tr>\n",
       "      <td>June</td>\n",
       "      <td>8522100.0</td>\n",
       "      <td>9259617.0</td>\n",
       "    </tr>\n",
       "    <tr>\n",
       "      <td>July</td>\n",
       "      <td>9421481.0</td>\n",
       "      <td>10687677.0</td>\n",
       "    </tr>\n",
       "    <tr>\n",
       "      <td>August</td>\n",
       "      <td>9892476.0</td>\n",
       "      <td>10850143.0</td>\n",
       "    </tr>\n",
       "    <tr>\n",
       "      <td>September</td>\n",
       "      <td>8130700.0</td>\n",
       "      <td>9426970.0</td>\n",
       "    </tr>\n",
       "    <tr>\n",
       "      <td>October</td>\n",
       "      <td>6466454.0</td>\n",
       "      <td>8181908.0</td>\n",
       "    </tr>\n",
       "    <tr>\n",
       "      <td>November</td>\n",
       "      <td>5223827.0</td>\n",
       "      <td>6964715.0</td>\n",
       "    </tr>\n",
       "    <tr>\n",
       "      <td>December</td>\n",
       "      <td>54622.1</td>\n",
       "      <td>74638.5</td>\n",
       "    </tr>\n",
       "  </tbody>\n",
       "</table>\n",
       "</div>"
      ],
      "text/plain": [
       "                2008        2010\n",
       "January    5196871.0   5705839.0\n",
       "February   5034272.0   5188681.0\n",
       "March      5757366.0   6099881.0\n",
       "April      6168871.0   6330317.0\n",
       "May        7153877.0   7727951.0\n",
       "June       8522100.0   9259617.0\n",
       "July       9421481.0  10687677.0\n",
       "August     9892476.0  10850143.0\n",
       "September  8130700.0   9426970.0\n",
       "October    6466454.0   8181908.0\n",
       "November   5223827.0   6964715.0\n",
       "December     54622.1     74638.5"
      ]
     },
     "execution_count": 71,
     "metadata": {},
     "output_type": "execute_result"
    }
   ],
   "source": [
    "databasepasanger = pd.read_csv(\"russian_passenger_air_service_2.csv\", encoding = 'utf-8')\n",
    "df_copy = databasepasanger.copy()\n",
    "#df_copy=df_copy.set_index(['Year'])\n",
    "#df_copy = databasepasanger[(databasepasanger['Year'] == 2008) | (databasepasanger['Year'] == 2016)]\n",
    "NeedParametr=['Year','January','February','March','April','May','June','July','August','September','October','November','December']\n",
    "mounth=['Year','January','February','March','April','May','June','July','August','September','October','November','December']\n",
    "#Mouth={}\n",
    "Mouth=df_copy[NeedParametr]\n",
    "databasepasanger_1=Mouth[Mouth['Year']==2008]\n",
    "databasepasanger_2=Mouth[Mouth['Year']==2010]\n",
    "mounth=['January','February','March','April','May','June','July','August','September','October','November','December']\n",
    "\n",
    "\n",
    "data = pd.DataFrame({\n",
    "    ('2008'):[sum(databasepasanger_1['January'])\n",
    "              ,sum(databasepasanger_1['February'])\n",
    "              ,sum(databasepasanger_1['March'])\n",
    "              ,sum(databasepasanger_1['April'])\n",
    "              ,sum(databasepasanger_1['May'])\n",
    "              ,sum(databasepasanger_1['June'])\n",
    "              ,sum(databasepasanger_1['July'])\n",
    "              ,sum(databasepasanger_1['August'])\n",
    "              ,sum(databasepasanger_1['September'])\n",
    "              ,sum(databasepasanger_1['October'])\n",
    "              ,sum(databasepasanger_1['November'])\n",
    "              ,sum(databasepasanger_1['December'])],\n",
    "    ('2010'):[sum(databasepasanger_2['January'])\n",
    "              ,sum(databasepasanger_2['February'])\n",
    "              ,sum(databasepasanger_2['March'])\n",
    "              ,sum(databasepasanger_2['April'])\n",
    "              ,sum(databasepasanger_2['May'])\n",
    "              ,sum(databasepasanger_2['June'])\n",
    "              ,sum(databasepasanger_2['July'])\n",
    "              ,sum(databasepasanger_2['August'])\n",
    "              ,sum(databasepasanger_2['September'])\n",
    "              ,sum(databasepasanger_2['October'])\n",
    "              ,sum(databasepasanger_2['November'])\n",
    "              ,sum(databasepasanger_2['December'])]\n",
    "    },mounth);\n",
    "\n",
    "data"
   ]
  },
  {
   "cell_type": "markdown",
   "metadata": {},
   "source": [
    "2. Побудувати графік, що відображає розкид даних в групах. Приклад:\n",
    "![alt text](https://s3.amazonaws.com/libapps/accounts/2515/images/spss_paired-t_example_boxplot.PNG)"
   ]
  },
  {
   "cell_type": "code",
   "execution_count": 72,
   "metadata": {},
   "outputs": [
    {
     "data": {
      "text/plain": [
       "<matplotlib.axes._subplots.AxesSubplot at 0x20e2e3b1c08>"
      ]
     },
     "execution_count": 72,
     "metadata": {},
     "output_type": "execute_result"
    },
    {
     "data": {
      "image/png": "[encoded data removed]",
      "text/plain": [
       "<Figure size 1440x360 with 1 Axes>"
      ]
     },
     "metadata": {
      "needs_background": "light"
     },
     "output_type": "display_data"
    }
   ],
   "source": [
    "plt.subplots(figsize=(20,5))\n",
    "sns.boxplot(orient = \"h\",data = data, palette=\"pastel\")"
   ]
  },
  {
   "cell_type": "markdown",
   "metadata": {},
   "source": [
    "3.для оцінки зв'язку між групами за коефіцієнтом кореляції Пірсона. Функція має повертати значення коефіцієнту кореляції, значення ступеня свободи та результат оцінки значимості зв'зку (significant або not significant)."
   ]
  },
  {
   "cell_type": "code",
   "execution_count": 73,
   "metadata": {},
   "outputs": [],
   "source": [
    "def cor_pirson(data):\n",
    "    r = len(data)*(sum(data.iloc[:,0]*data.iloc[:,1])) - sum(data.iloc[:,0])*sum(data.iloc[:,1])/np.sqrt((len(data)*sum(data.iloc[:,0]**2) - sum(data.iloc[:,0])**2)*(len(data)*sum(data.iloc[:,1]**2) - sum(data.iloc[:,1])**2))\n",
    "    kor_anal = pd.read_excel(\"Таблиця критичних значень кореляційного аналізу.xlsx\",encoding = 'utf-8')  \n",
    "    \n",
    "    df = len(data)-2\n",
    "    table_val = 0\n",
    "    if(df < 130):\n",
    "        for i in range(len(kor_anal)):\n",
    "            if(df < int(kor_anal.iloc[i,0])):\n",
    "                if(df != kor_anal.iloc[i-1,0]):\n",
    "                    table_val = (kor_anal.iloc[i-1,1] if((kor_anal.iloc[i,0]-df) >= abs(kor_anal.iloc[i-1,0]-df)) else kor_anal.iloc[i,1])\n",
    "                    break\n",
    "                else:\n",
    "                    table_val = kor_anal.iloc[i-1,1]\n",
    "                    break\n",
    "    else:\n",
    "        table_val = kor_anal.iloc[36,1]\n",
    "    if(abs(r) > table_val):\n",
    "        significant = \"significant\"\n",
    "    else:\n",
    "        significant =\"not significant\"\n",
    "    \n",
    "    ansver=[r,df,significant]\n",
    "    return ansver"
   ]
  },
  {
   "cell_type": "code",
   "execution_count": 74,
   "metadata": {},
   "outputs": [
    {
     "name": "stdout",
     "output_type": "stream",
     "text": [
      "[7657331459701599.0, 10, 'significant']\n"
     ]
    }
   ],
   "source": [
    "result_pirson = cor_pirson(data)\n",
    "print(result_pirson)"
   ]
  },
  {
   "cell_type": "markdown",
   "metadata": {},
   "source": [
    "4.для визначення відмінності між групами за критерієм Стьюдента. Функція має повертати значення критерію Стьюдента,значення ступеня свободи та результат оцінки значимості зв'зку (significant або not significant)."
   ]
  },
  {
   "cell_type": "code",
   "execution_count": 75,
   "metadata": {},
   "outputs": [],
   "source": [
    "def student(data):\n",
    "    data[\"Різниця (d)\"] = data.iloc[:,0]-data.iloc[:,1]\n",
    "    \n",
    "    M = np.mean(data.iloc[:,2])\n",
    "    st = np.std(data.iloc[:,2])\n",
    "    t = (M/st) * np.sqrt(len(data))\n",
    "    \n",
    "    df = len(data)-1   \n",
    "    \n",
    "    table_values = pd.read_excel(\"Таблица критических значений для парного критерия.xlsx\",encoding = 'utf-8')   \n",
    "    \n",
    "    table_val = 0\n",
    "    for i in range(len(table_values)):\n",
    "        if(df < int(table_values.iloc[i,0])):\n",
    "            if(df != table_values.iloc[i-1,0]):\n",
    "                table_val = (table_values.iloc[i-1,1] if((table_values.iloc[i,0]-df) >= abs(table_values.iloc[i-1,0]-df)) else table_values.iloc[i,1])\n",
    "                break\n",
    "            else:\n",
    "                table_val = table_values.iloc[i-1,1]\n",
    "                break\n",
    "    if(t < table_val):\n",
    "        significant = \"significant\"\n",
    "    else:\n",
    "        significant=\"not significant\"\n",
    "    ansver =[t,df,significant]\n",
    "\n",
    "    return ansver"
   ]
  },
  {
   "cell_type": "code",
   "execution_count": 76,
   "metadata": {},
   "outputs": [
    {
     "name": "stdout",
     "output_type": "stream",
     "text": [
      "[-4.742237272863966, 11, 'significant']\n"
     ]
    },
    {
     "data": {
      "text/html": [
       "<div>\n",
       "<style scoped>\n",
       "    .dataframe tbody tr th:only-of-type {\n",
       "        vertical-align: middle;\n",
       "    }\n",
       "\n",
       "    .dataframe tbody tr th {\n",
       "        vertical-align: top;\n",
       "    }\n",
       "\n",
       "    .dataframe thead th {\n",
       "        text-align: right;\n",
       "    }\n",
       "</style>\n",
       "<table border=\"1\" class=\"dataframe\">\n",
       "  <thead>\n",
       "    <tr style=\"text-align: right;\">\n",
       "      <th></th>\n",
       "      <th>2008</th>\n",
       "      <th>2010</th>\n",
       "      <th>Різниця (d)</th>\n",
       "    </tr>\n",
       "  </thead>\n",
       "  <tbody>\n",
       "    <tr>\n",
       "      <td>January</td>\n",
       "      <td>5196871.0</td>\n",
       "      <td>5705839.0</td>\n",
       "      <td>-508968.0</td>\n",
       "    </tr>\n",
       "    <tr>\n",
       "      <td>February</td>\n",
       "      <td>5034272.0</td>\n",
       "      <td>5188681.0</td>\n",
       "      <td>-154409.0</td>\n",
       "    </tr>\n",
       "    <tr>\n",
       "      <td>March</td>\n",
       "      <td>5757366.0</td>\n",
       "      <td>6099881.0</td>\n",
       "      <td>-342515.0</td>\n",
       "    </tr>\n",
       "    <tr>\n",
       "      <td>April</td>\n",
       "      <td>6168871.0</td>\n",
       "      <td>6330317.0</td>\n",
       "      <td>-161446.0</td>\n",
       "    </tr>\n",
       "    <tr>\n",
       "      <td>May</td>\n",
       "      <td>7153877.0</td>\n",
       "      <td>7727951.0</td>\n",
       "      <td>-574074.0</td>\n",
       "    </tr>\n",
       "    <tr>\n",
       "      <td>June</td>\n",
       "      <td>8522100.0</td>\n",
       "      <td>9259617.0</td>\n",
       "      <td>-737517.0</td>\n",
       "    </tr>\n",
       "    <tr>\n",
       "      <td>July</td>\n",
       "      <td>9421481.0</td>\n",
       "      <td>10687677.0</td>\n",
       "      <td>-1266196.0</td>\n",
       "    </tr>\n",
       "    <tr>\n",
       "      <td>August</td>\n",
       "      <td>9892476.0</td>\n",
       "      <td>10850143.0</td>\n",
       "      <td>-957667.0</td>\n",
       "    </tr>\n",
       "    <tr>\n",
       "      <td>September</td>\n",
       "      <td>8130700.0</td>\n",
       "      <td>9426970.0</td>\n",
       "      <td>-1296270.0</td>\n",
       "    </tr>\n",
       "    <tr>\n",
       "      <td>October</td>\n",
       "      <td>6466454.0</td>\n",
       "      <td>8181908.0</td>\n",
       "      <td>-1715454.0</td>\n",
       "    </tr>\n",
       "    <tr>\n",
       "      <td>November</td>\n",
       "      <td>5223827.0</td>\n",
       "      <td>6964715.0</td>\n",
       "      <td>-1740888.0</td>\n",
       "    </tr>\n",
       "    <tr>\n",
       "      <td>December</td>\n",
       "      <td>54622.1</td>\n",
       "      <td>74638.5</td>\n",
       "      <td>-20016.4</td>\n",
       "    </tr>\n",
       "  </tbody>\n",
       "</table>\n",
       "</div>"
      ],
      "text/plain": [
       "                2008        2010  Різниця (d)\n",
       "January    5196871.0   5705839.0    -508968.0\n",
       "February   5034272.0   5188681.0    -154409.0\n",
       "March      5757366.0   6099881.0    -342515.0\n",
       "April      6168871.0   6330317.0    -161446.0\n",
       "May        7153877.0   7727951.0    -574074.0\n",
       "June       8522100.0   9259617.0    -737517.0\n",
       "July       9421481.0  10687677.0   -1266196.0\n",
       "August     9892476.0  10850143.0    -957667.0\n",
       "September  8130700.0   9426970.0   -1296270.0\n",
       "October    6466454.0   8181908.0   -1715454.0\n",
       "November   5223827.0   6964715.0   -1740888.0\n",
       "December     54622.1     74638.5     -20016.4"
      ]
     },
     "execution_count": 76,
     "metadata": {},
     "output_type": "execute_result"
    }
   ],
   "source": [
    "res_student = student(data)\n",
    "print(res_student)\n",
    "data"
   ]
  },
  {
   "cell_type": "markdown",
   "metadata": {},
   "source": [
    "5.Перевірити розбіжність на між групами на даних з п. 1."
   ]
  },
  {
   "cell_type": "code",
   "execution_count": 77,
   "metadata": {},
   "outputs": [
    {
     "data": {
      "text/html": [
       "<div>\n",
       "<style scoped>\n",
       "    .dataframe tbody tr th:only-of-type {\n",
       "        vertical-align: middle;\n",
       "    }\n",
       "\n",
       "    .dataframe tbody tr th {\n",
       "        vertical-align: top;\n",
       "    }\n",
       "\n",
       "    .dataframe thead th {\n",
       "        text-align: right;\n",
       "    }\n",
       "</style>\n",
       "<table border=\"1\" class=\"dataframe\">\n",
       "  <thead>\n",
       "    <tr style=\"text-align: right;\">\n",
       "      <th></th>\n",
       "      <th>Критерій Пірсона</th>\n",
       "      <th>Критерій Стьюдента</th>\n",
       "    </tr>\n",
       "  </thead>\n",
       "  <tbody>\n",
       "    <tr>\n",
       "      <td>Значення</td>\n",
       "      <td>7.65733e+15</td>\n",
       "      <td>-4.74224</td>\n",
       "    </tr>\n",
       "    <tr>\n",
       "      <td>ступінь свободи</td>\n",
       "      <td>10</td>\n",
       "      <td>11</td>\n",
       "    </tr>\n",
       "    <tr>\n",
       "      <td>Значимість зв'язку</td>\n",
       "      <td>significant</td>\n",
       "      <td>significant</td>\n",
       "    </tr>\n",
       "  </tbody>\n",
       "</table>\n",
       "</div>"
      ],
      "text/plain": [
       "                   Критерій Пірсона Критерій Стьюдента\n",
       "Значення                7.65733e+15           -4.74224\n",
       "ступінь свободи                  10                 11\n",
       "Значимість зв'язку      significant        significant"
      ]
     },
     "execution_count": 77,
     "metadata": {},
     "output_type": "execute_result"
    }
   ],
   "source": [
    "table = pd.DataFrame({\n",
    "    \"Критерій Пірсона\":result_pirson,\n",
    "    \"Критерій Стьюдента\":res_student\n",
    "}, index = [\"Значення\", \"ступінь свободи\", \"Значимість зв'язку\"])\n",
    "table"
   ]
  },
  {
   "cell_type": "markdown",
   "metadata": {},
   "source": [
    "6. Сформувати висновок про взаємозв'язок між групами та про їх розбіжність."
   ]
  },
  {
   "cell_type": "code",
   "execution_count": 78,
   "metadata": {},
   "outputs": [
    {
     "name": "stdout",
     "output_type": "stream",
     "text": [
      "------------------------------------------------------\n",
      "Висновки:\n",
      "Корреляціонний зв'язок між ними статистично значимий\n",
      "Парні групи рівні\n",
      "------------------------------------------------------\n"
     ]
    }
   ],
   "source": [
    "print(54*'-'+\"\\nВисновки:\")\n",
    "if(table.iloc[2,0] == \"significant\"):\n",
    "    print(\"Корреляціонний зв'язок між ними статистично значимий\")\n",
    "else:\n",
    "    print(\"Корреляціонний зв'язок між ними відсутній\")\n",
    "          \n",
    "if(table.iloc[2,1] == \"significant\"):\n",
    "    print(\"Парні групи рівні\")\n",
    "else:\n",
    "    print(\"Парні групи відмінні\")\n",
    "print(54*'-')"
   ]
  },
  {
   "cell_type": "code",
   "execution_count": null,
   "metadata": {},
   "outputs": [],
   "source": []
  },
  {
   "cell_type": "code",
   "execution_count": null,
   "metadata": {},
   "outputs": [],
   "source": []
  }
 ],
 "metadata": {
  "kernelspec": {
   "display_name": "Python 3",
   "language": "python",
   "name": "python3"
  },
  "language_info": {
   "codemirror_mode": {
    "name": "ipython",
    "version": 3
   },
   "file_extension": ".py",
   "mimetype": "text/x-python",
   "name": "python",
   "nbconvert_exporter": "python",
   "pygments_lexer": "ipython3",
   "version": "3.7.4"
  }
 },
 "nbformat": 4,
 "nbformat_minor": 2
}
