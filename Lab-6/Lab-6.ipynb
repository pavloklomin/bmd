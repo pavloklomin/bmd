{
 "cells": [
  {
   "cell_type": "markdown",
   "metadata": {},
   "source": [
    "<h1>Лаба №6</h1>\n",
    "<h2>Студента БС-83</h2>\n",
    "<h2>Кльоміна Павла</h2>"
   ]
  },
  {
   "cell_type": "code",
   "execution_count": 288,
   "metadata": {},
   "outputs": [],
   "source": [
    "import seaborn as sns\n",
    "import seaborn as sns\n",
    "import numpy as np\n",
    "import matplotlib.pyplot as plt\n",
    "import pandas as pd\n",
    "%matplotlib inline"
   ]
  },
  {
   "cell_type": "markdown",
   "metadata": {},
   "source": [
    "1. Обрати реальні дані з kaggle(https://www.kaggle.com/vitaliymalcev/russian-passenger-air-service-20072020#russian_passenger_air_service_2.csv). \n",
    "Я обрав цю базу даних щоб перевірити теорію про те, що кількість пасажірів Росії у 2016 році було значно быльша за попередны роки, для прикладу взяв 2008 роки"
   ]
  },
  {
   "cell_type": "code",
   "execution_count": 289,
   "metadata": {
    "scrolled": false
   },
   "outputs": [
    {
     "name": "stdout",
     "output_type": "stream",
     "text": [
      "                2008         2016\n",
      "January    5196871.0   9186708.00\n",
      "February   5034272.0   8547411.00\n",
      "March      5757366.0   9638081.00\n",
      "April      6168871.0   9912538.00\n",
      "May        7153877.0  11361583.00\n",
      "June       8522100.0  13940169.00\n",
      "July       9421481.0  16197919.00\n",
      "August     9892476.0  16545897.00\n",
      "September  8130700.0  14728223.00\n",
      "October    6466454.0  12427516.00\n",
      "November   5223827.0  10624634.00\n",
      "December     54622.1     74462.63\n"
     ]
    }
   ],
   "source": [
    "databasepasanger_2008 = pd.read_csv(\"russian_passenger_air_service_2.csv\", encoding = 'utf-8').iloc[3377:3669,1:14]\n",
    "databasepasanger_2016 = pd.read_csv(\"russian_passenger_air_service_2.csv\", encoding = 'utf-8').iloc[1041:1333,1:14]\n",
    "mounth=['January','February','March','April','May','June','July','August','September','October','November','December']\n",
    "   \n",
    "data = pd.DataFrame({\n",
    "    ('2008'):[sum(databasepasanger_2008['January'])\n",
    "              ,sum(databasepasanger_2008['February'])\n",
    "              ,sum(databasepasanger_2008['March'])\n",
    "              ,sum(databasepasanger_2008['April'])\n",
    "              ,sum(databasepasanger_2008['May'])\n",
    "              ,sum(databasepasanger_2008['June'])\n",
    "              ,sum(databasepasanger_2008['July'])\n",
    "              ,sum(databasepasanger_2008['August'])\n",
    "              ,sum(databasepasanger_2008['September'])\n",
    "              ,sum(databasepasanger_2008['October'])\n",
    "              ,sum(databasepasanger_2008['November'])\n",
    "              ,sum(databasepasanger_2008['December'])],\n",
    "    ('2016'):[sum(databasepasanger_2016['January'])\n",
    "              ,sum(databasepasanger_2016['February'])\n",
    "              ,sum(databasepasanger_2016['March'])\n",
    "              ,sum(databasepasanger_2016['April'])\n",
    "              ,sum(databasepasanger_2016['May'])\n",
    "              ,sum(databasepasanger_2016['June'])\n",
    "              ,sum(databasepasanger_2016['July'])\n",
    "              ,sum(databasepasanger_2016['August'])\n",
    "              ,sum(databasepasanger_2016['September'])\n",
    "              ,sum(databasepasanger_2016['October'])\n",
    "              ,sum(databasepasanger_2016['November'])\n",
    "              ,sum(databasepasanger_2016['December'])]\n",
    "    }, mounth);\n",
    "\n",
    "print(data)\n"
   ]
  },
  {
   "cell_type": "markdown",
   "metadata": {},
   "source": [
    "2. Побудувати графік, що відображає розкид даних в групах. Приклад:\n",
    "![alt text](https://s3.amazonaws.com/libapps/accounts/2515/images/spss_paired-t_example_boxplot.PNG)"
   ]
  },
  {
   "cell_type": "code",
   "execution_count": 290,
   "metadata": {},
   "outputs": [
    {
     "data": {
      "text/plain": [
       "<matplotlib.axes._subplots.AxesSubplot at 0x1eb0b50f388>"
      ]
     },
     "execution_count": 290,
     "metadata": {},
     "output_type": "execute_result"
    },
    {
     "data": {
      "image/png": "[encoded data removed]",
      "text/plain": [
       "<Figure size 1440x360 with 1 Axes>"
      ]
     },
     "metadata": {
      "needs_background": "light"
     },
     "output_type": "display_data"
    }
   ],
   "source": [
    "plt.subplots(figsize=(20,5))\n",
    "sns.boxplot(orient = \"h\",data = data, palette=\"pastel\")"
   ]
  },
  {
   "cell_type": "markdown",
   "metadata": {},
   "source": [
    "3.для оцінки зв'язку між групами за коефіцієнтом кореляції Пірсона. Функція має повертати значення коефіцієнту кореляції, значення ступеня свободи та результат оцінки значимості зв'зку (significant або not significant)."
   ]
  },
  {
   "cell_type": "code",
   "execution_count": 301,
   "metadata": {},
   "outputs": [],
   "source": [
    "def cor_pirson(data):\n",
    "    r = len(data)*(sum(data.iloc[:,0]*data.iloc[:,1])) - sum(data.iloc[:,0])*sum(data.iloc[:,1])/np.sqrt((len(data)*sum(data.iloc[:,0]**2) - sum(data.iloc[:,0])**2)*(len(data)*sum(data.iloc[:,1]**2) - sum(data.iloc[:,1])**2))\n",
    "    kor_anal = pd.read_excel(\"Таблиця критичних значень кореляційного аналізу.xlsx\",encoding = 'utf-8')  \n",
    "    \n",
    "    df = len(data)-2\n",
    "    table_val = 0\n",
    "    if(df < 130):\n",
    "        for i in range(len(kor_anal)):\n",
    "            if(df < int(kor_anal.iloc[i,0])):\n",
    "                if(df != kor_anal.iloc[i-1,0]):\n",
    "                    table_val = (kor_anal.iloc[i-1,1] if((kor_anal.iloc[i,0]-df) >= abs(kor_anal.iloc[i-1,0]-df)) else kor_anal.iloc[i,1])\n",
    "                    break\n",
    "                else:\n",
    "                    table_val = kor_anal.iloc[i-1,1]\n",
    "                    break\n",
    "    else:\n",
    "        table_val = kor_anal.iloc[36,1]\n",
    "    if(abs(r) > table_val):\n",
    "        significant = \"significant\"\n",
    "    else:\n",
    "        significant =\"not significant\"\n",
    "    \n",
    "    ansver=[r,df,significant]\n",
    "    return ansver"
   ]
  },
  {
   "cell_type": "code",
   "execution_count": 302,
   "metadata": {},
   "outputs": [
    {
     "name": "stdout",
     "output_type": "stream",
     "text": [
      "[1.1752757441817716e+16, 10, 'significant']\n"
     ]
    }
   ],
   "source": [
    "result_pirson = cor_pirson(data)\n",
    "print(result_pirson)"
   ]
  },
  {
   "cell_type": "markdown",
   "metadata": {},
   "source": [
    "4.для визначення відмінності між групами за критерієм Стьюдента. Функція має повертати значення критерію Стьюдента,значення ступеня свободи та результат оцінки значимості зв'зку (significant або not significant)."
   ]
  },
  {
   "cell_type": "code",
   "execution_count": 299,
   "metadata": {},
   "outputs": [],
   "source": [
    "def student(data):\n",
    "    data[\"Різниця (d)\"] = data.iloc[:,0]-data.iloc[:,1]\n",
    "    \n",
    "    M = np.mean(data.iloc[:,2])\n",
    "    st = np.std(data.iloc[:,2])\n",
    "    t = (M/st) * np.sqrt(len(data))\n",
    "    \n",
    "    df = len(data)-1   \n",
    "    \n",
    "    table_values = pd.read_excel(\"Таблица критических значений для парного критерия.xlsx\",encoding = 'utf-8')   \n",
    "    \n",
    "    table_val = 0\n",
    "    for i in range(len(table_values)):\n",
    "        if(df < int(table_values.iloc[i,0])):\n",
    "            if(df != table_values.iloc[i-1,0]):\n",
    "                table_val = (table_values.iloc[i-1,1] if((table_values.iloc[i,0]-df) >= abs(table_values.iloc[i-1,0]-df)) else table_values.iloc[i,1])\n",
    "                break\n",
    "            else:\n",
    "                table_val = table_values.iloc[i-1,1]\n",
    "                break\n",
    "    if(t < table_val):\n",
    "        significant = \"significant\"\n",
    "    else:\n",
    "        significant=\"not significant\"\n",
    "    ansver =[t,df,significant]\n",
    "\n",
    "    return ansver"
   ]
  },
  {
   "cell_type": "code",
   "execution_count": 300,
   "metadata": {},
   "outputs": [
    {
     "name": "stdout",
     "output_type": "stream",
     "text": [
      "[-8.883872874969065, 11, 'significant']\n"
     ]
    },
    {
     "data": {
      "text/html": [
       "<div>\n",
       "<style scoped>\n",
       "    .dataframe tbody tr th:only-of-type {\n",
       "        vertical-align: middle;\n",
       "    }\n",
       "\n",
       "    .dataframe tbody tr th {\n",
       "        vertical-align: top;\n",
       "    }\n",
       "\n",
       "    .dataframe thead th {\n",
       "        text-align: right;\n",
       "    }\n",
       "</style>\n",
       "<table border=\"1\" class=\"dataframe\">\n",
       "  <thead>\n",
       "    <tr style=\"text-align: right;\">\n",
       "      <th></th>\n",
       "      <th>2008</th>\n",
       "      <th>2016</th>\n",
       "      <th>Різниця (d)</th>\n",
       "    </tr>\n",
       "  </thead>\n",
       "  <tbody>\n",
       "    <tr>\n",
       "      <td>January</td>\n",
       "      <td>5196871.0</td>\n",
       "      <td>9186708.00</td>\n",
       "      <td>-3989837.00</td>\n",
       "    </tr>\n",
       "    <tr>\n",
       "      <td>February</td>\n",
       "      <td>5034272.0</td>\n",
       "      <td>8547411.00</td>\n",
       "      <td>-3513139.00</td>\n",
       "    </tr>\n",
       "    <tr>\n",
       "      <td>March</td>\n",
       "      <td>5757366.0</td>\n",
       "      <td>9638081.00</td>\n",
       "      <td>-3880715.00</td>\n",
       "    </tr>\n",
       "    <tr>\n",
       "      <td>April</td>\n",
       "      <td>6168871.0</td>\n",
       "      <td>9912538.00</td>\n",
       "      <td>-3743667.00</td>\n",
       "    </tr>\n",
       "    <tr>\n",
       "      <td>May</td>\n",
       "      <td>7153877.0</td>\n",
       "      <td>11361583.00</td>\n",
       "      <td>-4207706.00</td>\n",
       "    </tr>\n",
       "    <tr>\n",
       "      <td>June</td>\n",
       "      <td>8522100.0</td>\n",
       "      <td>13940169.00</td>\n",
       "      <td>-5418069.00</td>\n",
       "    </tr>\n",
       "    <tr>\n",
       "      <td>July</td>\n",
       "      <td>9421481.0</td>\n",
       "      <td>16197919.00</td>\n",
       "      <td>-6776438.00</td>\n",
       "    </tr>\n",
       "    <tr>\n",
       "      <td>August</td>\n",
       "      <td>9892476.0</td>\n",
       "      <td>16545897.00</td>\n",
       "      <td>-6653421.00</td>\n",
       "    </tr>\n",
       "    <tr>\n",
       "      <td>September</td>\n",
       "      <td>8130700.0</td>\n",
       "      <td>14728223.00</td>\n",
       "      <td>-6597523.00</td>\n",
       "    </tr>\n",
       "    <tr>\n",
       "      <td>October</td>\n",
       "      <td>6466454.0</td>\n",
       "      <td>12427516.00</td>\n",
       "      <td>-5961062.00</td>\n",
       "    </tr>\n",
       "    <tr>\n",
       "      <td>November</td>\n",
       "      <td>5223827.0</td>\n",
       "      <td>10624634.00</td>\n",
       "      <td>-5400807.00</td>\n",
       "    </tr>\n",
       "    <tr>\n",
       "      <td>December</td>\n",
       "      <td>54622.1</td>\n",
       "      <td>74462.63</td>\n",
       "      <td>-19840.53</td>\n",
       "    </tr>\n",
       "  </tbody>\n",
       "</table>\n",
       "</div>"
      ],
      "text/plain": [
       "                2008         2016  Різниця (d)\n",
       "January    5196871.0   9186708.00  -3989837.00\n",
       "February   5034272.0   8547411.00  -3513139.00\n",
       "March      5757366.0   9638081.00  -3880715.00\n",
       "April      6168871.0   9912538.00  -3743667.00\n",
       "May        7153877.0  11361583.00  -4207706.00\n",
       "June       8522100.0  13940169.00  -5418069.00\n",
       "July       9421481.0  16197919.00  -6776438.00\n",
       "August     9892476.0  16545897.00  -6653421.00\n",
       "September  8130700.0  14728223.00  -6597523.00\n",
       "October    6466454.0  12427516.00  -5961062.00\n",
       "November   5223827.0  10624634.00  -5400807.00\n",
       "December     54622.1     74462.63    -19840.53"
      ]
     },
     "execution_count": 300,
     "metadata": {},
     "output_type": "execute_result"
    }
   ],
   "source": [
    "res_student = student(data)\n",
    "print(res_student)\n",
    "data"
   ]
  },
  {
   "cell_type": "markdown",
   "metadata": {},
   "source": [
    "5.Перевірити розбіжність на між групами на даних з п. 1."
   ]
  },
  {
   "cell_type": "code",
   "execution_count": 303,
   "metadata": {},
   "outputs": [
    {
     "data": {
      "text/html": [
       "<div>\n",
       "<style scoped>\n",
       "    .dataframe tbody tr th:only-of-type {\n",
       "        vertical-align: middle;\n",
       "    }\n",
       "\n",
       "    .dataframe tbody tr th {\n",
       "        vertical-align: top;\n",
       "    }\n",
       "\n",
       "    .dataframe thead th {\n",
       "        text-align: right;\n",
       "    }\n",
       "</style>\n",
       "<table border=\"1\" class=\"dataframe\">\n",
       "  <thead>\n",
       "    <tr style=\"text-align: right;\">\n",
       "      <th></th>\n",
       "      <th>Критерій Пірсона</th>\n",
       "      <th>Критерій Стьюдента</th>\n",
       "    </tr>\n",
       "  </thead>\n",
       "  <tbody>\n",
       "    <tr>\n",
       "      <td>Значення</td>\n",
       "      <td>1.17528e+16</td>\n",
       "      <td>-8.88387</td>\n",
       "    </tr>\n",
       "    <tr>\n",
       "      <td>ступінь свободи</td>\n",
       "      <td>10</td>\n",
       "      <td>11</td>\n",
       "    </tr>\n",
       "    <tr>\n",
       "      <td>Значимість зв'язку</td>\n",
       "      <td>significant</td>\n",
       "      <td>significant</td>\n",
       "    </tr>\n",
       "  </tbody>\n",
       "</table>\n",
       "</div>"
      ],
      "text/plain": [
       "                   Критерій Пірсона Критерій Стьюдента\n",
       "Значення                1.17528e+16           -8.88387\n",
       "ступінь свободи                  10                 11\n",
       "Значимість зв'язку      significant        significant"
      ]
     },
     "execution_count": 303,
     "metadata": {},
     "output_type": "execute_result"
    }
   ],
   "source": [
    "table = pd.DataFrame({\n",
    "    \"Критерій Пірсона\":result_pirson,\n",
    "    \"Критерій Стьюдента\":result_student\n",
    "}, index = [\"Значення\", \"ступінь свободи\", \"Значимість зв'язку\"])\n",
    "table"
   ]
  },
  {
   "cell_type": "markdown",
   "metadata": {},
   "source": [
    "6. Сформувати висновок про взаємозв'язок між групами та про їх розбіжність."
   ]
  },
  {
   "cell_type": "code",
   "execution_count": 308,
   "metadata": {},
   "outputs": [
    {
     "name": "stdout",
     "output_type": "stream",
     "text": [
      "------------------------------------------------------\n",
      "Висновки:\n",
      "Корреляціонний зв'язок між ними статистично значимий\n",
      "Парні групи рівні\n",
      "------------------------------------------------------\n"
     ]
    }
   ],
   "source": [
    "print(54*'-'+\"\\nВисновки:\")\n",
    "if(table.iloc[2,0] == \"significant\"):\n",
    "    print(\"Корреляціонний зв'язок між ними статистично значимий\")\n",
    "else:\n",
    "    print(\"Корреляціонний зв'язок між ними відсутній\")\n",
    "          \n",
    "if(table.iloc[2,1] == \"significant\"):\n",
    "    print(\"Парні групи рівні\")\n",
    "else:\n",
    "    print(\"Парні групи відмінні\")\n",
    "print(54*'-')"
   ]
  },
  {
   "cell_type": "code",
   "execution_count": null,
   "metadata": {},
   "outputs": [],
   "source": []
  }
 ],
 "metadata": {
  "kernelspec": {
   "display_name": "Python 3",
   "language": "python",
   "name": "python3"
  },
  "language_info": {
   "codemirror_mode": {
    "name": "ipython",
    "version": 3
   },
   "file_extension": ".py",
   "mimetype": "text/x-python",
   "name": "python",
   "nbconvert_exporter": "python",
   "pygments_lexer": "ipython3",
   "version": "3.7.4"
  }
 },
 "nbformat": 4,
 "nbformat_minor": 2
}
